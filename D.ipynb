{
 "cells": [
  {
   "cell_type": "code",
   "execution_count": 6,
   "id": "63f8b562-02cb-4260-a0e9-b013cbc2a3d2",
   "metadata": {},
   "outputs": [
    {
     "name": "stderr",
     "output_type": "stream",
     "text": [
      "[nltk_data] Downloading package vader_lexicon to\n",
      "[nltk_data]     C:\\Users\\mbmma\\AppData\\Roaming\\nltk_data...\n",
      "[nltk_data]   Package vader_lexicon is already up-to-date!\n"
     ]
    },
    {
     "name": "stdout",
     "output_type": "stream",
     "text": [
      "                          Beer  Rating  \\\n",
      "0  Kentucky Brunch Brand Stout    4.61   \n",
      "1  Kentucky Brunch Brand Stout    4.71   \n",
      "2  Kentucky Brunch Brand Stout    5.00   \n",
      "3  Kentucky Brunch Brand Stout    4.80   \n",
      "4  Kentucky Brunch Brand Stout    4.98   \n",
      "\n",
      "                                              Review    neg    neu    pos  \\\n",
      "0  Sampled at the brewery, this is the 2022 bottl...  0.027  0.762  0.210   \n",
      "1  The perfect barrel aged stout. Not overly swee...  0.205  0.553  0.242   \n",
      "2  The flirtation with maple comes to a crescendo...  0.033  0.715  0.252   \n",
      "3  The flirtation with maple comes to a crescendo...  0.033  0.715  0.252   \n",
      "4  On tap at TG for part of KBBS release day - ra...  0.073  0.558  0.369   \n",
      "\n",
      "   compound  \n",
      "0    0.9938  \n",
      "1    0.2216  \n",
      "2    0.9924  \n",
      "3    0.9924  \n",
      "4    0.9761  \n"
     ]
    }
   ],
   "source": [
    "# Load CSV file\n",
    "csvFile = pd.read_csv('data/reduced_length.csv')\n",
    "\n",
    "# Set up the analyzer\n",
    "nltk.download('vader_lexicon')\n",
    "analyzer = SentimentIntensityAnalyzer()\n",
    "\n",
    "# Define custom sentiment update function\n",
    "def get_sentiment(sentence):\n",
    "    sid = SentimentIntensityAnalyzer()\n",
    "    # Custom lexicon update with expanded beer-related sentiments\n",
    "    newWords = {\n",
    "        # Positive Sentiment Words\n",
    "        'crisp': 2.0, 'refreshing': 2.5, 'smooth': 2.3, 'balanced': 2.2, \n",
    "        'aromatic': 2.0, 'malty': 1.8, 'hoppy': 1.7, 'fruity': 1.9, \n",
    "        'creamy': 2.0, 'sessionable': 2.4, 'floral': 1.8, 'zesty': 1.9, \n",
    "        'rich': 2.5, 'velvety': 2.5, 'fragrant': 2.4, 'robust': 2.3, \n",
    "        'lively': 2.2, 'layered': 2.1, 'subtle': 2.0, 'caramel': 2.1, \n",
    "        'toffee': 2.0, 'spicy': 1.9, 'vanilla': 2.3, 'nutty': 2.0, \n",
    "        'biscuity': 1.8, 'citrusy': 2.0, 'piney': 1.9, 'clean': 2.0, \n",
    "        'tropical': 2.2, 'silky': 2.5, 'elegant': 2.4, 'peppery': 1.7, \n",
    "        'herbal': 1.8,\n",
    "\n",
    "        # Negative Sentiment Words\n",
    "        'skunky': -2.5, 'watery': -2.0, 'bitter': -2.2, 'flat': -2.3, \n",
    "        'stale': -2.5, 'sour': -2.0, 'overpowering': -1.8, 'burnt': -2.5, \n",
    "        'alcoholic': -2.1, 'cloying': -2.3, 'astringent': -2.0, 'metallic': -2.4, \n",
    "        'harsh': -2.5, 'off-putting': -2.4, 'musty': -2.3, 'overcarbonated': -2.1, \n",
    "        'soapy': -2.3, 'chemically': -2.4, 'clunky': -2.2, 'thin': -2.0, \n",
    "        'overripe': -2.3, 'soggy': -2.1, 'grainy': -1.9, 'chalky': -2.2, \n",
    "        'muddy': -2.3, 'dull': -2.0, 'medicinal': -2.4, 'boozy': -2.2, \n",
    "        'syrupy': -2.3,\n",
    "\n",
    "        # Neutral/Context-Dependent Words\n",
    "        'light': 1.0, 'dry': 1.2, 'full-bodied': 1.5, 'funky': 0.5, \n",
    "        'earthy': 0.7, 'toasty': 1.5, 'grassy': 1.0, 'oaky': 1.2, \n",
    "        'tangy': 0.9, 'woody': 1.1, 'fizzy': 1.0, 'spiced': 1.0, \n",
    "        'bready': 0.8, 'oily': -1.0, 'prickly': 1.0, 'drying': -1.0\n",
    "    }\n",
    "    sid.lexicon.update(newWords)  # Update the lexicon\n",
    "    score = sid.polarity_scores(sentence)  # Get sentiment scores\n",
    "    return score  # Return full sentiment scores\n",
    "\n",
    "# Create empty lists to store sentiment scores\n",
    "neg = []\n",
    "neu = []\n",
    "pos = []\n",
    "compound = []\n",
    "\n",
    "# Loop through the texts and get the sentiment scores using the updated function\n",
    "for text in csvFile[\"Review\"]:\n",
    "    scores = get_sentiment(text)\n",
    "    neg.append(scores['neg'])\n",
    "    neu.append(scores['neu'])\n",
    "    pos.append(scores['pos'])\n",
    "    compound.append(scores['compound'])\n",
    "\n",
    "# Add sentiment scores as new columns to the DataFrame\n",
    "sentiments = csvFile\n",
    "sentiments['neg'] = neg\n",
    "sentiments['neu'] = neu\n",
    "sentiments['pos'] = pos\n",
    "sentiments['compound'] = compound\n",
    "\n",
    "# Display the updated DataFrame with sentiment scores\n",
    "print(sentiments.head())\n",
    "\n",
    "# Calculate the average sentiment score per beer\n",
    "sentiment_avg = sentiments.groupby([\"Beer\"])[\"compound\"].mean().sort_values(ascending=False)\n"
   ]
  }
 ],
 "metadata": {
  "kernelspec": {
   "display_name": "Python 3 (ipykernel)",
   "language": "python",
   "name": "python3"
  },
  "language_info": {
   "codemirror_mode": {
    "name": "ipython",
    "version": 3
   },
   "file_extension": ".py",
   "mimetype": "text/x-python",
   "name": "python",
   "nbconvert_exporter": "python",
   "pygments_lexer": "ipython3",
   "version": "3.12.4"
  }
 },
 "nbformat": 4,
 "nbformat_minor": 5
}
