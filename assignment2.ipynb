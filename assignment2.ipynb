{
  "cells": [
    {
      "cell_type": "markdown",
      "metadata": {
        "id": "Hv9kgLAVUDvJ"
      },
      "source": [
        "# Analytics for Unstructured Data Assignment 2\n",
        "## Building a Crowdsourced Recommender System\n",
        "\n",
        "Team members:\n",
        "- Marcus Martinez\n",
        "- Marifer Martinez-Garcia\n",
        "- Femke Munting\n",
        "- Alex Schmelzeis\n",
        "- Milan Vaghani\n",
        "- Kennedy Zapalac"
      ]
    },
    {
      "cell_type": "code",
      "execution_count": null,
      "metadata": {
        "colab": {
          "base_uri": "https://localhost:8080/"
        },
        "id": "C5S7ljfvUDvL",
        "outputId": "f642c245-ad9d-4419-c6fa-3b63c8a4df06"
      },
      "outputs": [
        {
          "name": "stderr",
          "output_type": "stream",
          "text": [
            "[nltk_data] Downloading package punkt to /root/nltk_data...\n",
            "[nltk_data]   Unzipping tokenizers/punkt.zip.\n"
          ]
        }
      ],
      "source": [
        "# # pip install undected_chromedriver #run this if you are using it for the first time\n",
        "# Importing modules related to web automation (Selenium)\n",
        "#from selenium import webdriver\n",
        "#from selenium.webdriver.common.keys import Keys\n",
        "#from selenium.webdriver.common.by import By\n",
        "#from selenium.webdriver.support.ui import WebDriverWait\n",
        "#from selenium.webdriver.support import expected_conditions as EC\n",
        "#from selenium.webdriver.common.action_chains import ActionChains\n",
        "#from selenium.common.exceptions import TimeoutException\n",
        "\n",
        "# Uncomment the following if using undetected_chromedriver for scraping\n",
        "# import undetected_chromedriver as uc\n",
        "\n",
        "# Importing standard libraries\n",
        "import time\n",
        "import string\n",
        "import io\n",
        "import csv\n",
        "import re\n",
        "import shutil\n",
        "import random\n",
        "from tempfile import NamedTemporaryFile\n",
        "import decimal\n",
        "from collections import Counter, defaultdict\n",
        "import itertools\n",
        "from itertools import combinations\n",
        "import operator\n",
        "\n",
        "# Data manipulation and analysis\n",
        "import pandas as pd\n",
        "import numpy as np\n",
        "\n",
        "# Data visualization\n",
        "import matplotlib.pyplot as plt\n",
        "import seaborn as sns\n",
        "\n",
        "# Machine learning and manifold learning\n",
        "from sklearn import manifold\n",
        "\n",
        "# Natural language processing (NLP)\n",
        "import nltk\n",
        "from nltk.corpus import stopwords\n",
        "nltk.download('punkt')\n",
        "from nltk.tokenize import word_tokenize, RegexpTokenizer\n",
        "from nltk.stem import PorterStemmer, WordNetLemmatizer\n",
        "from collections import Counter, defaultdict\n",
        "import re\n",
        "import string\n",
        "\n",
        "# Machine learning and text processing\n",
        "from sklearn import manifold\n",
        "from sklearn.feature_extraction.text import CountVectorizer\n",
        "from sklearn.metrics.pairwise import cosine_similarity\n",
        "from nltk.sentiment.vader import SentimentIntensityAnalyzer"
      ]
    },
    {
      "cell_type": "markdown",
      "metadata": {
        "id": "JBSz1y5xUDvO"
      },
      "source": [
        "# Scraping\n",
        "We have commented out the scraping code for now, but you can run it if you remove the comments."
      ]
    },
    {
      "cell_type": "markdown",
      "metadata": {
        "id": "6Z1u6MPFUDvO"
      },
      "source": [
        "## Scraping for Beer Advocate"
      ]
    },
    {
      "cell_type": "code",
      "execution_count": null,
      "metadata": {
        "id": "vUpiy4vbUDvP"
      },
      "outputs": [],
      "source": [
        "# # Initialize the undetected Chrome driver with options\n",
        "# options = uc.ChromeOptions()\n",
        "# options.add_argument('--no-sandbox')\n",
        "# options.add_argument('--disable-dev-shm-usage')\n",
        "# options.add_argument('--window-size=1920,1080')\n",
        "# options.add_argument('--disable-blink-features=AutomationControlled')  # Helps avoid detection\n",
        "\n",
        "# # Initialize the Chrome WebDriver using undetected-chromedriver\n",
        "# driver = uc.Chrome(options=options)\n",
        "\n",
        "# # Open the BeerAdvocate top-rated beers page\n",
        "# driver.get('https://www.beeradvocate.com/beer/top-rated/')\n",
        "\n",
        "# wait = WebDriverWait(driver, 10)\n",
        "\n",
        "# # Dictionary to store beer data\n",
        "# beer_data = {}\n",
        "\n",
        "# # Loop through each beer listed on the page (250 beers)\n",
        "# for i in range(2, 252):  # Beer list starts from row 2 and goes up to 251\n",
        "#     try:\n",
        "#         # Locate the beer name and URL\n",
        "#         beer_link = wait.until(EC.presence_of_element_located(\n",
        "#             (By.XPATH, f'//div[@id=\"ba-content\"]/table/tbody/tr[{i}]/td[2]/a')))\n",
        "#         beer_name = beer_link.text\n",
        "#         beer_url = beer_link.get_attribute('href')\n",
        "#         # Store the name and URL in the dictionary\n",
        "#         beer_data[beer_name] = beer_url\n",
        "\n",
        "#     except Exception as e:\n",
        "#         print(f\"Error in processing beer {i}: {e}\")\n",
        "#         continue\n",
        "# driver.quit()"
      ]
    },
    {
      "cell_type": "code",
      "execution_count": null,
      "metadata": {
        "id": "j4pHzMuRUDvQ"
      },
      "outputs": [],
      "source": [
        "# # Initialize the undetected Chrome driver with options\n",
        "# options = uc.ChromeOptions()\n",
        "# options.add_argument('--no-sandbox')\n",
        "# options.add_argument('--disable-dev-shm-usage')\n",
        "# options.add_argument('--window-size=1920,1080')\n",
        "# options.add_argument('--disable-blink-features=AutomationControlled')  # Helps avoid detection\n",
        "\n",
        "# # Initialize the Chrome WebDriver using undetected-chromedriver\n",
        "# driver = uc.Chrome(options=options)\n",
        "# # Open the first beer's page\n",
        "# comments_file = pd.DataFrame( columns = ['Beer','Rating','Review'])\n",
        "\n",
        "# for key,value in beer_data.items():\n",
        "#         driver.get(value)\n",
        "#         reviews = driver.find_elements(By.XPATH,'//div[@id=\"rating_fullview_content_2\"]')\n",
        "#         for review in reviews[:25]:\n",
        "#             try:\n",
        "#                 review_cmmnts = rep5 = review.find_element(By.XPATH,'.//div').text\n",
        "#                 rating = review.find_element(By.XPATH,'.//span[2]').text\n",
        "#                 review_cmmnts = review_cmmnts.replace('rDev',\"\")\n",
        "#                 k = pd.DataFrame({'Beer': [key], 'Rating': [rating], 'Review': [review_cmmnts]})\n",
        "#                 comments_file = pd.concat([comments_file, k], ignore_index=True)\n",
        "#             except:\n",
        "#                 pass\n",
        "# driver.quit()"
      ]
    },
    {
      "cell_type": "markdown",
      "metadata": {
        "id": "QQiNb-yDUDvR"
      },
      "source": [
        "## Scraping for Rate Beer"
      ]
    },
    {
      "cell_type": "code",
      "execution_count": null,
      "metadata": {
        "id": "pQhD7VXjUDvR"
      },
      "outputs": [],
      "source": [
        "# # Initialize undetected Chrome driver with options\n",
        "# options = webdriver.ChromeOptions()\n",
        "# options.add_argument('--no-sandbox')\n",
        "# options.add_argument('--disable-dev-shm-usage')\n",
        "# options.add_argument('--window-size=1920,1080')\n",
        "# options.add_argument('--disable-blink-features=AutomationControlled')  # Helps avoid detection\n",
        "\n",
        "# # Initialize the Chrome WebDriver using undetected-chromedriver\n",
        "# driver = uc.Chrome(options=options)\n",
        "\n",
        "# # Open the BeerAdvocate top-rated beers page\n",
        "# driver.get('https://www.ratebeer.com/top-beers')\n",
        "\n",
        "# wait = WebDriverWait(driver, 10)\n",
        "\n",
        "# # Dictionary to store beer data\n",
        "# beer_data = {}\n",
        "\n",
        "# # Wait for the page to load (use dynamic waiting instead of time.sleep)\n",
        "# time.sleep(5)\n",
        "\n",
        "# # Loop through each beer listed on the page (usually 50-250 beers)\n",
        "# for i in range(1, 51):  # Adjust the range based on how many items are loaded\n",
        "#     try:\n",
        "#         # Locate the beer name and URL using XPath\n",
        "#         beer_link = wait.until(EC.presence_of_element_located(\n",
        "#             (By.XPATH, f'//*[@id=\"root\"]/div[2]/div[2]/div/div/div/div/div/section[2]/div[2]/div/div/div[2]/div[{i}]/div[2]/a/div[1]')))\n",
        "\n",
        "#         # Get the beer name\n",
        "#         beer_name = beer_link.text\n",
        "\n",
        "#         # Get the beer URL\n",
        "#         beer_url = beer_link.find_element(By.XPATH, '..').get_attribute('href')\n",
        "\n",
        "#         # Store the name and URL in the dictionary\n",
        "#         beer_data[beer_name] = beer_url\n",
        "\n",
        "#     except Exception as e:\n",
        "#         print(f\"Error in processing beer {i}: {e}\")\n",
        "#         continue\n",
        "\n",
        "# driver.quit()"
      ]
    },
    {
      "cell_type": "code",
      "execution_count": null,
      "metadata": {
        "id": "rkFjWHyTUDvS"
      },
      "outputs": [],
      "source": [
        "# # Initialize the undetected Chrome driver with options\n",
        "# options = uc.ChromeOptions()\n",
        "# options.add_argument('--no-sandbox')\n",
        "# options.add_argument('--disable-dev-shm-usage')\n",
        "# options.add_argument('--window-size=1920,1080')\n",
        "# options.add_argument('--disable-blink-features=AutomationControlled')  # Helps avoid detection\n",
        "\n",
        "# # Initialize the Chrome WebDriver using undetected-chromedriver\n",
        "# driver = uc.Chrome(options=options)\n",
        "\n",
        "# # Create a DataFrame to store beer reviews\n",
        "\n",
        "# # Iterate over the beer_data dictionary\n",
        "# for beer_name, beer_url in beer_data.items():\n",
        "#     driver.get(beer_url)\n",
        "\n",
        "#     # Wait for the page to load\n",
        "#     time.sleep(2)  # You may adjust this wait time or implement a better waiting strategy\n",
        "\n",
        "#     # Loop through the first 15 reviews\n",
        "#     for i in range(1, 16):\n",
        "#         try:\n",
        "#             # Get the review comment\n",
        "#             review_xpath = f'//*[@id=\"root\"]/div[2]/div[2]/div/div/div/div[2]/div[1]/div[2]/div/div[3]/div[{i}]/div/section[2]/div[1]/div/div[1]/div'\n",
        "#             review_comment = driver.find_element(By.XPATH, review_xpath).text\n",
        "\n",
        "#             # Get the rating\n",
        "#             rating_xpath = f'//*[@id=\"root\"]/div[2]/div[2]/div/div/div/div[2]/div[1]/div[2]/div/div[3]/div[{i}]/div/section[1]/div[2]/div[2]/div[2]/span[1]'\n",
        "#             rating = driver.find_element(By.XPATH, rating_xpath).text\n",
        "\n",
        "#             # Store the data in the DataFrame\n",
        "#             k = pd.DataFrame({'Beer': [beer_name], 'Rating': [rating], 'Review': [review_comment]})\n",
        "#             comments_file = pd.concat([comments_file, k], ignore_index=True)\n",
        "\n",
        "#         except Exception as e:\n",
        "#             continue\n",
        "\n",
        "# driver.quit()"
      ]
    },
    {
      "cell_type": "code",
      "execution_count": null,
      "metadata": {
        "id": "jWj8j-enUDvT"
      },
      "outputs": [],
      "source": [
        "# comments_file.to_csv('data/beer_reviews.csv', index=False)"
      ]
    },
    {
      "cell_type": "code",
      "execution_count": null,
      "metadata": {
        "colab": {
          "base_uri": "https://localhost:8080/",
          "height": 489
        },
        "id": "xBAYEVp8UDvT",
        "outputId": "b986b82e-f45e-4a1a-f802-d4d3d9aec322"
      },
      "outputs": [
        {
          "data": {
            "text/plain": [
              "Text(0.5, 1.0, 'Distribution of Review Counts')"
            ]
          },
          "execution_count": 4,
          "metadata": {},
          "output_type": "execute_result"
        },
        {
          "data": {
            "image/png": "[encoded data removed]",
            "text/plain": [
              "<Figure size 640x480 with 1 Axes>"
            ]
          },
          "metadata": {},
          "output_type": "display_data"
        }
      ],
      "source": [
        "df = pd.read_csv(\"data/beer_reviews.csv\")\n",
        "\n",
        "reviews = df.groupby([\"Beer\"])[\"Review\"].count()\n",
        "# The max number of reviews for one beer is 15, the min is 1\n",
        "\n",
        "df.groupby([\"Beer\"])[\"Review\"].count().median()\n",
        "# Mean count is 6; maybe we should cut off all beers that have less than three reviews?\n",
        "\n",
        "# Display frequency of reviews\n",
        "\n",
        "sns.histplot(reviews, binwidth = 1)\n",
        "plt.title(\"Distribution of Review Counts\")"
      ]
    },
    {
      "cell_type": "code",
      "execution_count": null,
      "metadata": {
        "id": "ARv4G8lIUDvU"
      },
      "outputs": [],
      "source": [
        "more_than_3 = df.groupby([\"Beer\"])[\"Review\"].count()\n",
        "more_than_3 = more_than_3[more_than_3 >= 5]\n",
        "more_than_3 = more_than_3.reset_index()\n",
        "\n",
        "reduced_df = df[df[\"Beer\"].isin(list(more_than_3[\"Beer\"]))]\n",
        "len(reduced_df[\"Beer\"].unique())\n",
        "reduced_df.to_csv(\"data/reduced_length.csv\", index = False)\n",
        "#len(reduced_df)"
      ]
    },
    {
      "cell_type": "markdown",
      "metadata": {
        "id": "5mlEDx5vUDvV"
      },
      "source": [
        "# Task B: Beer Attributes"
      ]
    },
    {
      "cell_type": "markdown",
      "metadata": {
        "id": "3j2KZRZ_UDvW"
      },
      "source": [
        "**Use raw word frequneices or post frequenices? Used post frequencies**"
      ]
    },
    {
      "cell_type": "code",
      "execution_count": null,
      "metadata": {
        "colab": {
          "base_uri": "https://localhost:8080/"
        },
        "id": "4uWWkgcUUDvW",
        "outputId": "e499abf1-1328-4948-d1ea-5810754a306f"
      },
      "outputs": [
        {
          "name": "stderr",
          "output_type": "stream",
          "text": [
            "[nltk_data] Downloading package stopwords to /root/nltk_data...\n",
            "[nltk_data]   Unzipping corpora/stopwords.zip.\n"
          ]
        },
        {
          "name": "stdout",
          "output_type": "stream",
          "text": [
            "Word frequencies written to data/word_freq.csv\n"
          ]
        }
      ],
      "source": [
        "# raw word frequencies\n",
        "# Download stopwords from the NLTK package\n",
        "nltk.download('stopwords')\n",
        "stop_words = set(stopwords.words('english'))\n",
        "\n",
        "# Input and output filenames\n",
        "input_filename = 'data/reduced_length.csv'  # Input file\n",
        "final_filename = 'data/beer_reviews2.csv'  # Intermediate file without the column header\n",
        "word_freq_output = 'data/word_freq.csv'  # Output file for word frequencies\n",
        "\n",
        "# Function to clean and tokenize sentences\n",
        "def clean_and_tokenize(sentence):\n",
        "    \"\"\"\n",
        "    Cleans a given sentence by removing punctuation, converting text to lowercase,\n",
        "    and tokenizing the remaining words.\n",
        "    \"\"\"\n",
        "    # Remove punctuation and convert text to lowercase\n",
        "    sentence = re.sub(f'[{re.escape(string.punctuation)}]', '', sentence.lower())\n",
        "\n",
        "    # Tokenize and remove stopwords\n",
        "    return [word for word in sentence.split()]\n",
        "\n",
        "\n",
        "# Step 1: Extract and clean sentences from the text\n",
        "def extract_sentences(file):\n",
        "    \"\"\"\n",
        "    Extracts text data from the third column of the CSV file, splits it into sentences,\n",
        "    and cleans each sentence by removing punctuation and stopwords.\n",
        "    \"\"\"\n",
        "    df = pd.read_csv(file)\n",
        "    posts = df.iloc[:,2]\n",
        "    sentences = []\n",
        "    sentences_clean = []\n",
        "    for post in posts:\n",
        "        sentences.extend(re.split('[?.!]', post))\n",
        "    for sentence in sentences:\n",
        "        cleaned_tokens = clean_and_tokenize(sentence)\n",
        "        if cleaned_tokens:\n",
        "            sentences_clean.append(cleaned_tokens)\n",
        "    return sentences_clean\n",
        "\n",
        "\n",
        "# Step 2: Calculate word frequencies\n",
        "def calculate_word_frequencies(sentences):\n",
        "    \"\"\"\n",
        "    Calculates the frequency of each word in the given list of cleaned sentences.\n",
        "    \"\"\"\n",
        "    freqs = {}\n",
        "    total_words = 0\n",
        "    for sentence in sentences:\n",
        "        for word in sentence:\n",
        "            freqs[word] = freqs.get(word, 0) + 1\n",
        "            total_words += 1\n",
        "    return freqs\n",
        "\n",
        "# Step 3: Write word frequencies to CSV\n",
        "def write_word_frequencies(word_freq, output_file):\n",
        "    \"\"\"\n",
        "    Writes the word frequencies to the specified CSV file.\n",
        "    \"\"\"\n",
        "    word_freq_df = pd.DataFrame(word_freq.items(), columns = [\"Word\", \"Frequency\"])\n",
        "    word_freq_df = word_freq_df.sort_values(by = \"Frequency\", ascending = False)\n",
        "    word_freq_df.to_csv(output_file, index=False)\n",
        "    print(f\"Word frequencies written to {output_file}\")\n",
        "\n",
        "# Main function to run all steps\n",
        "def main():\n",
        "\n",
        "    # Step 1: Extract and clean sentences\n",
        "    sentences = extract_sentences(input_filename)\n",
        "\n",
        "    # Step 2: Calculate word frequencies\n",
        "    word_freq = calculate_word_frequencies(sentences)\n",
        "\n",
        "    # Step 3: Write word frequencies to CSV\n",
        "    write_word_frequencies(word_freq, word_freq_output)\n",
        "\n",
        "if __name__ == \"__main__\":\n",
        "    main()"
      ]
    },
    {
      "cell_type": "code",
      "execution_count": null,
      "metadata": {
        "colab": {
          "base_uri": "https://localhost:8080/"
        },
        "id": "VxEoYRTCUDvX",
        "outputId": "da497a50-9cd3-4ea0-da82-b0a9e329f8fc"
      },
      "outputs": [
        {
          "name": "stderr",
          "output_type": "stream",
          "text": [
            "[nltk_data] Downloading package stopwords to /root/nltk_data...\n",
            "[nltk_data]   Package stopwords is already up-to-date!\n"
          ]
        },
        {
          "name": "stdout",
          "output_type": "stream",
          "text": [
            "Word post counts written to data/word_post_count.csv\n"
          ]
        }
      ],
      "source": [
        "# post word frequency\n",
        "# Download stopwords from the NLTK package\n",
        "nltk.download('stopwords')\n",
        "stop_words = set(stopwords.words('english'))\n",
        "\n",
        "# Input and output filenames\n",
        "input_filename = 'data/reduced_length.csv'  # Input file\n",
        "word_freq_output = 'data/word_post_count.csv'  # Output file for word post count\n",
        "\n",
        "# Function to clean text (removing punctuation and stopwords)\n",
        "def clean_text(post):\n",
        "    \"\"\"\n",
        "    Cleans a given post by removing punctuation and stopwords, and converting text to lowercase.\n",
        "    \"\"\"\n",
        "    post = re.sub(f'[{re.escape(string.punctuation)}]', '', post.lower())  # Remove punctuation and convert to lowercase\n",
        "    words = post.split()  # Tokenize the post\n",
        "    words = [word for word in words if word not in stop_words]  # Remove stopwords\n",
        "    return ' '.join(words)\n",
        "\n",
        "# Step 1: Clean the posts from the CSV\n",
        "def clean_posts(input_file):\n",
        "    \"\"\"\n",
        "    Reads the input CSV file, cleans the posts, and returns a list of cleaned posts.\n",
        "    \"\"\"\n",
        "    df = pd.read_csv(input_file)  # Load CSV\n",
        "    posts = df.iloc[:, 2]  # Extract the third column (posts)\n",
        "    cleaned_posts = posts.apply(clean_text)  # Apply cleaning to each post\n",
        "    return cleaned_posts\n",
        "\n",
        "# Step 2: Use CountVectorizer to count how many posts each word appears in\n",
        "def count_word_occurrences(posts):\n",
        "    \"\"\"\n",
        "    Uses CountVectorizer to count how many posts each word appears in.\n",
        "    \"\"\"\n",
        "    vectorizer = CountVectorizer(binary=True)  # binary=True to count post occurrences (not word frequency)\n",
        "    X = vectorizer.fit_transform(posts)  # Transform the posts into a document-term matrix\n",
        "    word_counts = X.toarray().sum(axis=0)  # Sum the binary values to get the number of posts each word appears in\n",
        "    words = vectorizer.get_feature_names_out()  # Get the words from the vocabulary\n",
        "    word_post_count = dict(zip(words, word_counts))  # Map words to their post counts\n",
        "    return word_post_count\n",
        "\n",
        "# Step 3: Write the word counts to a CSV file\n",
        "def write_word_counts_to_csv(word_post_count, output_file):\n",
        "    \"\"\"\n",
        "    Writes the word-post-counts to the specified CSV file.\n",
        "    \"\"\"\n",
        "    word_post_count_df = pd.DataFrame(list(word_post_count.items()), columns=[\"Word\", \"Post_Count\"])\n",
        "    word_post_count_df = word_post_count_df.sort_values(by=\"Post_Count\", ascending=False)\n",
        "    word_post_count_df.to_csv(output_file, index=False)\n",
        "    print(f\"Word post counts written to {output_file}\")\n",
        "\n",
        "# Main function to run all steps\n",
        "def main():\n",
        "    # Step 1: Clean posts\n",
        "    cleaned_posts = clean_posts(input_filename)\n",
        "\n",
        "    # Step 2: Count how many posts each word appears in\n",
        "    word_post_count = count_word_occurrences(cleaned_posts)\n",
        "\n",
        "    # Step 3: Write word post counts to CSV\n",
        "    write_word_counts_to_csv(word_post_count, word_freq_output)\n",
        "\n",
        "if __name__ == \"__main__\":\n",
        "    main()"
      ]
    },
    {
      "cell_type": "code",
      "execution_count": null,
      "metadata": {
        "colab": {
          "base_uri": "https://localhost:8080/",
          "height": 419
        },
        "id": "DcybrXtHUDvY",
        "outputId": "3636c744-d156-4af9-e7de-e01e6ee0dfdb"
      },
      "outputs": [
        {
          "data": {
            "application/vnd.google.colaboratory.intrinsic+json": {
              "summary": "{\n  \"name\": \"df\",\n  \"rows\": 9458,\n  \"fields\": [\n    {\n      \"column\": \"Word\",\n      \"properties\": {\n        \"dtype\": \"string\",\n        \"num_unique_values\": 9458,\n        \"samples\": [\n          \"pseudo\",\n          \"przy\",\n          \"barrelaging\"\n        ],\n        \"semantic_type\": \"\",\n        \"description\": \"\"\n      }\n    },\n    {\n      \"column\": \"Post_Count\",\n      \"properties\": {\n        \"dtype\": \"number\",\n        \"std\": 27,\n        \"min\": 1,\n        \"max\": 855,\n        \"num_unique_values\": 171,\n        \"samples\": [\n          71,\n          151,\n          149\n        ],\n        \"semantic_type\": \"\",\n        \"description\": \"\"\n      }\n    }\n  ]\n}",
              "type": "dataframe",
              "variable_name": "df"
            },
            "text/html": [
              "\n",
              "  <div id=\"df-c8eff4a5-3840-4c1f-81d3-96230bdb3b46\" class=\"colab-df-container\">\n",
              "    <div>\n",
              "<style scoped>\n",
              "    .dataframe tbody tr th:only-of-type {\n",
              "        vertical-align: middle;\n",
              "    }\n",
              "\n",
              "    .dataframe tbody tr th {\n",
              "        vertical-align: top;\n",
              "    }\n",
              "\n",
              "    .dataframe thead th {\n",
              "        text-align: right;\n",
              "    }\n",
              "</style>\n",
              "<table border=\"1\" class=\"dataframe\">\n",
              "  <thead>\n",
              "    <tr style=\"text-align: right;\">\n",
              "      <th></th>\n",
              "      <th>Word</th>\n",
              "      <th>Post_Count</th>\n",
              "    </tr>\n",
              "  </thead>\n",
              "  <tbody>\n",
              "    <tr>\n",
              "      <th>0</th>\n",
              "      <td>head</td>\n",
              "      <td>855</td>\n",
              "    </tr>\n",
              "    <tr>\n",
              "      <th>1</th>\n",
              "      <td>taste</td>\n",
              "      <td>608</td>\n",
              "    </tr>\n",
              "    <tr>\n",
              "      <th>2</th>\n",
              "      <td>bottle</td>\n",
              "      <td>545</td>\n",
              "    </tr>\n",
              "    <tr>\n",
              "      <th>3</th>\n",
              "      <td>aroma</td>\n",
              "      <td>513</td>\n",
              "    </tr>\n",
              "    <tr>\n",
              "      <th>4</th>\n",
              "      <td>beer</td>\n",
              "      <td>475</td>\n",
              "    </tr>\n",
              "    <tr>\n",
              "      <th>...</th>\n",
              "      <td>...</td>\n",
              "      <td>...</td>\n",
              "    </tr>\n",
              "    <tr>\n",
              "      <th>9453</th>\n",
              "      <td>hangen</td>\n",
              "      <td>1</td>\n",
              "    </tr>\n",
              "    <tr>\n",
              "      <th>9454</th>\n",
              "      <td>hang</td>\n",
              "      <td>1</td>\n",
              "    </tr>\n",
              "    <tr>\n",
              "      <th>9455</th>\n",
              "      <td>handful</td>\n",
              "      <td>1</td>\n",
              "    </tr>\n",
              "    <tr>\n",
              "      <th>9456</th>\n",
              "      <td>hamilton</td>\n",
              "      <td>1</td>\n",
              "    </tr>\n",
              "    <tr>\n",
              "      <th>9457</th>\n",
              "      <td>ярко</td>\n",
              "      <td>1</td>\n",
              "    </tr>\n",
              "  </tbody>\n",
              "</table>\n",
              "<p>9458 rows × 2 columns</p>\n",
              "</div>\n",
              "    <div class=\"colab-df-buttons\">\n",
              "\n",
              "  <div class=\"colab-df-container\">\n",
              "    <button class=\"colab-df-convert\" onclick=\"convertToInteractive('df-c8eff4a5-3840-4c1f-81d3-96230bdb3b46')\"\n",
              "            title=\"Convert this dataframe to an interactive table.\"\n",
              "            style=\"display:none;\">\n",
              "\n",
              "  <svg xmlns=\"http://www.w3.org/2000/svg\" height=\"24px\" viewBox=\"0 -960 960 960\">\n",
              "    <path d=\"M120-120v-720h720v720H120Zm60-500h600v-160H180v160Zm220 220h160v-160H400v160Zm0 220h160v-160H400v160ZM180-400h160v-160H180v160Zm440 0h160v-160H620v160ZM180-180h160v-160H180v160Zm440 0h160v-160H620v160Z\"/>\n",
              "  </svg>\n",
              "    </button>\n",
              "\n",
              "  <style>\n",
              "    .colab-df-container {\n",
              "      display:flex;\n",
              "      gap: 12px;\n",
              "    }\n",
              "\n",
              "    .colab-df-convert {\n",
              "      background-color: #E8F0FE;\n",
              "      border: none;\n",
              "      border-radius: 50%;\n",
              "      cursor: pointer;\n",
              "      display: none;\n",
              "      fill: #1967D2;\n",
              "      height: 32px;\n",
              "      padding: 0 0 0 0;\n",
              "      width: 32px;\n",
              "    }\n",
              "\n",
              "    .colab-df-convert:hover {\n",
              "      background-color: #E2EBFA;\n",
              "      box-shadow: 0px 1px 2px rgba(60, 64, 67, 0.3), 0px 1px 3px 1px rgba(60, 64, 67, 0.15);\n",
              "      fill: #174EA6;\n",
              "    }\n",
              "\n",
              "    .colab-df-buttons div {\n",
              "      margin-bottom: 4px;\n",
              "    }\n",
              "\n",
              "    [theme=dark] .colab-df-convert {\n",
              "      background-color: #3B4455;\n",
              "      fill: #D2E3FC;\n",
              "    }\n",
              "\n",
              "    [theme=dark] .colab-df-convert:hover {\n",
              "      background-color: #434B5C;\n",
              "      box-shadow: 0px 1px 3px 1px rgba(0, 0, 0, 0.15);\n",
              "      filter: drop-shadow(0px 1px 2px rgba(0, 0, 0, 0.3));\n",
              "      fill: #FFFFFF;\n",
              "    }\n",
              "  </style>\n",
              "\n",
              "    <script>\n",
              "      const buttonEl =\n",
              "        document.querySelector('#df-c8eff4a5-3840-4c1f-81d3-96230bdb3b46 button.colab-df-convert');\n",
              "      buttonEl.style.display =\n",
              "        google.colab.kernel.accessAllowed ? 'block' : 'none';\n",
              "\n",
              "      async function convertToInteractive(key) {\n",
              "        const element = document.querySelector('#df-c8eff4a5-3840-4c1f-81d3-96230bdb3b46');\n",
              "        const dataTable =\n",
              "          await google.colab.kernel.invokeFunction('convertToInteractive',\n",
              "                                                    [key], {});\n",
              "        if (!dataTable) return;\n",
              "\n",
              "        const docLinkHtml = 'Like what you see? Visit the ' +\n",
              "          '<a target=\"_blank\" href=https://colab.research.google.com/notebooks/data_table.ipynb>data table notebook</a>'\n",
              "          + ' to learn more about interactive tables.';\n",
              "        element.innerHTML = '';\n",
              "        dataTable['output_type'] = 'display_data';\n",
              "        await google.colab.output.renderOutput(dataTable, element);\n",
              "        const docLink = document.createElement('div');\n",
              "        docLink.innerHTML = docLinkHtml;\n",
              "        element.appendChild(docLink);\n",
              "      }\n",
              "    </script>\n",
              "  </div>\n",
              "\n",
              "\n",
              "<div id=\"df-dd5aa33c-b53a-473c-aac1-a2c44a9b28a1\">\n",
              "  <button class=\"colab-df-quickchart\" onclick=\"quickchart('df-dd5aa33c-b53a-473c-aac1-a2c44a9b28a1')\"\n",
              "            title=\"Suggest charts\"\n",
              "            style=\"display:none;\">\n",
              "\n",
              "<svg xmlns=\"http://www.w3.org/2000/svg\" height=\"24px\"viewBox=\"0 0 24 24\"\n",
              "     width=\"24px\">\n",
              "    <g>\n",
              "        <path d=\"M19 3H5c-1.1 0-2 .9-2 2v14c0 1.1.9 2 2 2h14c1.1 0 2-.9 2-2V5c0-1.1-.9-2-2-2zM9 17H7v-7h2v7zm4 0h-2V7h2v10zm4 0h-2v-4h2v4z\"/>\n",
              "    </g>\n",
              "</svg>\n",
              "  </button>\n",
              "\n",
              "<style>\n",
              "  .colab-df-quickchart {\n",
              "      --bg-color: #E8F0FE;\n",
              "      --fill-color: #1967D2;\n",
              "      --hover-bg-color: #E2EBFA;\n",
              "      --hover-fill-color: #174EA6;\n",
              "      --disabled-fill-color: #AAA;\n",
              "      --disabled-bg-color: #DDD;\n",
              "  }\n",
              "\n",
              "  [theme=dark] .colab-df-quickchart {\n",
              "      --bg-color: #3B4455;\n",
              "      --fill-color: #D2E3FC;\n",
              "      --hover-bg-color: #434B5C;\n",
              "      --hover-fill-color: #FFFFFF;\n",
              "      --disabled-bg-color: #3B4455;\n",
              "      --disabled-fill-color: #666;\n",
              "  }\n",
              "\n",
              "  .colab-df-quickchart {\n",
              "    background-color: var(--bg-color);\n",
              "    border: none;\n",
              "    border-radius: 50%;\n",
              "    cursor: pointer;\n",
              "    display: none;\n",
              "    fill: var(--fill-color);\n",
              "    height: 32px;\n",
              "    padding: 0;\n",
              "    width: 32px;\n",
              "  }\n",
              "\n",
              "  .colab-df-quickchart:hover {\n",
              "    background-color: var(--hover-bg-color);\n",
              "    box-shadow: 0 1px 2px rgba(60, 64, 67, 0.3), 0 1px 3px 1px rgba(60, 64, 67, 0.15);\n",
              "    fill: var(--button-hover-fill-color);\n",
              "  }\n",
              "\n",
              "  .colab-df-quickchart-complete:disabled,\n",
              "  .colab-df-quickchart-complete:disabled:hover {\n",
              "    background-color: var(--disabled-bg-color);\n",
              "    fill: var(--disabled-fill-color);\n",
              "    box-shadow: none;\n",
              "  }\n",
              "\n",
              "  .colab-df-spinner {\n",
              "    border: 2px solid var(--fill-color);\n",
              "    border-color: transparent;\n",
              "    border-bottom-color: var(--fill-color);\n",
              "    animation:\n",
              "      spin 1s steps(1) infinite;\n",
              "  }\n",
              "\n",
              "  @keyframes spin {\n",
              "    0% {\n",
              "      border-color: transparent;\n",
              "      border-bottom-color: var(--fill-color);\n",
              "      border-left-color: var(--fill-color);\n",
              "    }\n",
              "    20% {\n",
              "      border-color: transparent;\n",
              "      border-left-color: var(--fill-color);\n",
              "      border-top-color: var(--fill-color);\n",
              "    }\n",
              "    30% {\n",
              "      border-color: transparent;\n",
              "      border-left-color: var(--fill-color);\n",
              "      border-top-color: var(--fill-color);\n",
              "      border-right-color: var(--fill-color);\n",
              "    }\n",
              "    40% {\n",
              "      border-color: transparent;\n",
              "      border-right-color: var(--fill-color);\n",
              "      border-top-color: var(--fill-color);\n",
              "    }\n",
              "    60% {\n",
              "      border-color: transparent;\n",
              "      border-right-color: var(--fill-color);\n",
              "    }\n",
              "    80% {\n",
              "      border-color: transparent;\n",
              "      border-right-color: var(--fill-color);\n",
              "      border-bottom-color: var(--fill-color);\n",
              "    }\n",
              "    90% {\n",
              "      border-color: transparent;\n",
              "      border-bottom-color: var(--fill-color);\n",
              "    }\n",
              "  }\n",
              "</style>\n",
              "\n",
              "  <script>\n",
              "    async function quickchart(key) {\n",
              "      const quickchartButtonEl =\n",
              "        document.querySelector('#' + key + ' button');\n",
              "      quickchartButtonEl.disabled = true;  // To prevent multiple clicks.\n",
              "      quickchartButtonEl.classList.add('colab-df-spinner');\n",
              "      try {\n",
              "        const charts = await google.colab.kernel.invokeFunction(\n",
              "            'suggestCharts', [key], {});\n",
              "      } catch (error) {\n",
              "        console.error('Error during call to suggestCharts:', error);\n",
              "      }\n",
              "      quickchartButtonEl.classList.remove('colab-df-spinner');\n",
              "      quickchartButtonEl.classList.add('colab-df-quickchart-complete');\n",
              "    }\n",
              "    (() => {\n",
              "      let quickchartButtonEl =\n",
              "        document.querySelector('#df-dd5aa33c-b53a-473c-aac1-a2c44a9b28a1 button');\n",
              "      quickchartButtonEl.style.display =\n",
              "        google.colab.kernel.accessAllowed ? 'block' : 'none';\n",
              "    })();\n",
              "  </script>\n",
              "</div>\n",
              "\n",
              "  <div id=\"id_8c7e3402-db9b-4a9b-80d7-8a8cce5b6447\">\n",
              "    <style>\n",
              "      .colab-df-generate {\n",
              "        background-color: #E8F0FE;\n",
              "        border: none;\n",
              "        border-radius: 50%;\n",
              "        cursor: pointer;\n",
              "        display: none;\n",
              "        fill: #1967D2;\n",
              "        height: 32px;\n",
              "        padding: 0 0 0 0;\n",
              "        width: 32px;\n",
              "      }\n",
              "\n",
              "      .colab-df-generate:hover {\n",
              "        background-color: #E2EBFA;\n",
              "        box-shadow: 0px 1px 2px rgba(60, 64, 67, 0.3), 0px 1px 3px 1px rgba(60, 64, 67, 0.15);\n",
              "        fill: #174EA6;\n",
              "      }\n",
              "\n",
              "      [theme=dark] .colab-df-generate {\n",
              "        background-color: #3B4455;\n",
              "        fill: #D2E3FC;\n",
              "      }\n",
              "\n",
              "      [theme=dark] .colab-df-generate:hover {\n",
              "        background-color: #434B5C;\n",
              "        box-shadow: 0px 1px 3px 1px rgba(0, 0, 0, 0.15);\n",
              "        filter: drop-shadow(0px 1px 2px rgba(0, 0, 0, 0.3));\n",
              "        fill: #FFFFFF;\n",
              "      }\n",
              "    </style>\n",
              "    <button class=\"colab-df-generate\" onclick=\"generateWithVariable('df')\"\n",
              "            title=\"Generate code using this dataframe.\"\n",
              "            style=\"display:none;\">\n",
              "\n",
              "  <svg xmlns=\"http://www.w3.org/2000/svg\" height=\"24px\"viewBox=\"0 0 24 24\"\n",
              "       width=\"24px\">\n",
              "    <path d=\"M7,19H8.4L18.45,9,17,7.55,7,17.6ZM5,21V16.75L18.45,3.32a2,2,0,0,1,2.83,0l1.4,1.43a1.91,1.91,0,0,1,.58,1.4,1.91,1.91,0,0,1-.58,1.4L9.25,21ZM18.45,9,17,7.55Zm-12,3A5.31,5.31,0,0,0,4.9,8.1,5.31,5.31,0,0,0,1,6.5,5.31,5.31,0,0,0,4.9,4.9,5.31,5.31,0,0,0,6.5,1,5.31,5.31,0,0,0,8.1,4.9,5.31,5.31,0,0,0,12,6.5,5.46,5.46,0,0,0,6.5,12Z\"/>\n",
              "  </svg>\n",
              "    </button>\n",
              "    <script>\n",
              "      (() => {\n",
              "      const buttonEl =\n",
              "        document.querySelector('#id_8c7e3402-db9b-4a9b-80d7-8a8cce5b6447 button.colab-df-generate');\n",
              "      buttonEl.style.display =\n",
              "        google.colab.kernel.accessAllowed ? 'block' : 'none';\n",
              "\n",
              "      buttonEl.onclick = () => {\n",
              "        google.colab.notebook.generateWithVariable('df');\n",
              "      }\n",
              "      })();\n",
              "    </script>\n",
              "  </div>\n",
              "\n",
              "    </div>\n",
              "  </div>\n"
            ],
            "text/plain": [
              "          Word  Post_Count\n",
              "0         head         855\n",
              "1        taste         608\n",
              "2       bottle         545\n",
              "3        aroma         513\n",
              "4         beer         475\n",
              "...        ...         ...\n",
              "9453    hangen           1\n",
              "9454      hang           1\n",
              "9455   handful           1\n",
              "9456  hamilton           1\n",
              "9457      ярко           1\n",
              "\n",
              "[9458 rows x 2 columns]"
            ]
          },
          "execution_count": 8,
          "metadata": {},
          "output_type": "execute_result"
        }
      ],
      "source": [
        "df = pd.read_csv('data/word_post_count.csv')\n",
        "df"
      ]
    },
    {
      "cell_type": "markdown",
      "metadata": {
        "id": "bL_4u3BvUDvZ"
      },
      "source": [
        "**Frequent beer qualities:**\n",
        "# NOTE: THIS NEEDS TO BE CHANGED NOW THAT WE HAVE THE NEW INPUT FILE\n",
        "1. Head: Refers to the foam on top of beer after it is poured, considered a quality aspect.\n",
        "2. Aroma?: Refers to the smell or scent of beer, often a key quality evaluated in tasting.\n",
        "3. Sweet\n",
        "4. Dark\n",
        "5. Pours?\n",
        "6. Chocolate\n",
        "7. Black\n",
        "8. Body?: Describes the mouthfeel or weight of the beer (light, medium, or full-bodied). Might be too general\n",
        "9. Vanilla\n",
        "10. Carbonation\n",
        "11. Light\n",
        "12. Smooth\n",
        "13. Fruit"
      ]
    },
    {
      "cell_type": "code",
      "execution_count": null,
      "metadata": {
        "id": "3D_DEdLoUDva",
        "scrolled": true
      },
      "outputs": [],
      "source": [
        "# check that how attributes are used\n",
        "#df = pd.read_csv('data/beer_reviews.csv')\n",
        "#df_head = df.loc[df['Review'].str.contains(r'\\bhead\\b', case=False), 'Review']\n",
        "#for i in range(len(df_head)):\n",
        "#    print(df.loc[i, 'Review'])"
      ]
    },
    {
      "cell_type": "code",
      "execution_count": null,
      "metadata": {
        "id": "CUM--425UDva"
      },
      "outputs": [],
      "source": [
        "\n",
        "\n",
        "# check that 3 attributes chosen occur together\n",
        "# Initialize global variables and data structures\n",
        "df_lift = pd.DataFrame(columns=['word1', 'word2', 'lift_value'])  # To store lift values\n",
        "word_frequency = {}  # Dictionary to store word frequency in posts\n",
        "word_pair_frequency = defaultdict(dict)  # Dictionary to store word pair co-occurrence frequency\n",
        "results_dict = {}  # Dictionary to store results with lift values for word pairs\n",
        "file_length = 0  # Number of rows in the input file\n",
        "itr = 0  # Row iterator for the lift DataFrame\n",
        "\n",
        "# File paths\n",
        "input_file = 'data/reduced_length.csv'  # Input data file\n",
        "pair_keys_file = 'data/beer_attributes.txt'  # File containing the words to calculate lift\n",
        "output_lift_values = 'data/Lift_Values.csv'  # Output file for lift values\n",
        "output_lift_matrix = 'data/Lift_Matrix.csv'  # Output file for lift matrix\n",
        "\n",
        "# Load NLTK stopwords\n",
        "stop_words = set(stopwords.words('english'))\n",
        "\n",
        "# Function to clean and tokenize text (removes punctuation and stopwords)\n",
        "def clean_text(text):\n",
        "    \"\"\"\n",
        "    Cleans a given text by removing punctuation, converting it to lowercase,\n",
        "    and tokenizing it, ignoring any stopwords.\n",
        "    \"\"\"\n",
        "    # Convert to lowercase\n",
        "    text = text.lower()\n",
        "\n",
        "    # Remove punctuation\n",
        "    text = text.translate(str.maketrans('', '', string.punctuation))\n",
        "\n",
        "    # Tokenize text\n",
        "    tokens = word_tokenize(text)\n",
        "\n",
        "    # Remove stopwords\n",
        "    cleaned_tokens = [word for word in tokens if word not in stop_words]\n",
        "\n",
        "    return cleaned_tokens\n",
        "\n",
        "# Step 1: Load the words from the edmunds_pair_keys.txt file and generate all pairs\n",
        "def load_word_pairs(filename):\n",
        "    \"\"\"\n",
        "    Loads words from a file where words are comma-separated in each row.\n",
        "    Returns a list of all possible word pairs for each row.\n",
        "    \"\"\"\n",
        "    word_pairs = []\n",
        "    with open(filename, 'r') as file:\n",
        "        reader = csv.reader(file)\n",
        "        for row in reader:\n",
        "            # Generate all possible word pairs from each row\n",
        "            pairs = list(combinations(row, 2))\n",
        "            word_pairs.extend(pairs)\n",
        "\n",
        "    return word_pairs\n",
        "\n",
        "# Step 2: Process the input CSV file to extract posts and clean the text\n",
        "def process_input_file(input_filename):\n",
        "    \"\"\"\n",
        "    Processes the input CSV file to extract and clean posts. Each post is tokenized,\n",
        "    cleaned of punctuation and stopwords, and stored in a list.\n",
        "    \"\"\"\n",
        "    posts = []\n",
        "    global file_length\n",
        "    df = pd.read_csv(input_filename)  # Load the CSV file into a DataFrame\n",
        "\n",
        "    # Assuming 'comments' is the column that contains the text\n",
        "    for index, row in df.iterrows():\n",
        "        cleaned_post = clean_text(row['Review'])  # Clean and tokenize the post\n",
        "        posts.append(cleaned_post)\n",
        "\n",
        "    file_length = len(df)  # Get the total number of rows\n",
        "    return posts\n",
        "\n",
        "# Step 3: Calculate word frequencies and word pair co-occurrences (distance ≥ 5 words)\n",
        "def calculate_frequencies(posts):\n",
        "    \"\"\"\n",
        "    Calculates the frequency of individual words and word pairs within the posts.\n",
        "    Updates the global word_frequency and word_pair_frequency dictionaries.\n",
        "    Only considers word pairs that are 5 or more words apart.\n",
        "    \"\"\"\n",
        "    global word_frequency, word_pair_frequency\n",
        "\n",
        "    for post in posts:\n",
        "        word_positions = {}  # Dictionary to track positions of each word\n",
        "\n",
        "        # Track word positions\n",
        "        for idx, word in enumerate(post):\n",
        "            if word not in word_positions:\n",
        "                word_positions[word] = []\n",
        "            word_positions[word].append(idx)\n",
        "\n",
        "        # Count word frequencies\n",
        "        unique_words = set(post)  # Track unique words in the post to avoid double counting\n",
        "        for word in unique_words:\n",
        "            word_frequency[word] = word_frequency.get(word, 0) + 1\n",
        "\n",
        "        # Track word pairs that have already been marked as co-occurring in this post\n",
        "        seen_pairs = set()\n",
        "        # Count word pair co-occurrences with distance check\n",
        "        for word1 in word_positions:\n",
        "            for word2 in word_positions:\n",
        "                if word1 != word2 and (word1, word2) not in seen_pairs:\n",
        "                    # Check if the words are 5 or fewer positions apart\n",
        "                    found_pair = False\n",
        "                    for pos1 in word_positions[word1]:\n",
        "                        for pos2 in word_positions[word2]:\n",
        "                            if abs(pos1 - pos2) <= 7:\n",
        "                                word_pair_frequency[word1][word2] = word_pair_frequency.get(word1, {}).get(word2, 0) + 1\n",
        "                                seen_pairs.add((word1, word2))  # Mark this pair as seen\n",
        "                                found_pair = True\n",
        "                                break  # No need to check more positions; move to the next pair\n",
        "                        if found_pair:\n",
        "                            break  # Stop after finding one valid pair in this post\n",
        "\n",
        "# Step 4: Calculate the lift between word pairs\n",
        "def calculate_lift(word_pairs):\n",
        "    \"\"\"\n",
        "    Calculates the lift between word pairs using the formula:\n",
        "    Lift(word1, word2) = P(word1 AND word2) / (P(word1) * P(word2))\n",
        "    Lift is written to the lift values CSV and stored in a DataFrame for further processing.\n",
        "    \"\"\"\n",
        "    global itr\n",
        "\n",
        "    for word1, word2 in word_pairs:\n",
        "        # Get the frequency of word1, word2, and their co-occurrence\n",
        "        freq_word1 = word_frequency.get(word1, 0)\n",
        "        freq_word2 = word_frequency.get(word2, 0)\n",
        "        co_occurrence = word_pair_frequency.get(word1, {}).get(word2, 0)\n",
        "\n",
        "        # Calculate probabilities\n",
        "        p_word1 = freq_word1 / file_length if freq_word1 else 0\n",
        "        p_word2 = freq_word2 / file_length if freq_word2 else 0\n",
        "        p_word1_and_word2 = co_occurrence / file_length if co_occurrence else 0\n",
        "\n",
        "        # Avoid division by zero\n",
        "        if p_word1 > 0 and p_word2 > 0:\n",
        "            lift_value = p_word1_and_word2 / (p_word1 * p_word2) if (p_word1 * p_word2) > 0 else 0\n",
        "        else:\n",
        "            lift_value = 0\n",
        "        # Store lift value in DataFrame\n",
        "        df_lift.loc[itr] = [word1, word2, lift_value]\n",
        "        itr += 1\n",
        "    return df_lift\n",
        "\n",
        "# Step 5: Write lift values and matrix to CSV\n",
        "def save_results(df_lift):\n",
        "    \"\"\"\n",
        "    Writes the calculated lift values to a CSV file and also generates a lift matrix,\n",
        "    saving it to another CSV.\n",
        "    \"\"\"\n",
        "    # Save lift values DataFrame to CSV\n",
        "    # must create duplicate word pairs to create 10x10 matrix\n",
        "    df_lift2 = pd.DataFrame({'word1':df_lift.word2, 'word2':df_lift.word1, 'lift_value':df_lift.lift_value})\n",
        "    df_lift = pd.concat([df_lift, df_lift2], ignore_index=True)\n",
        "    df_lift.to_csv(output_lift_values, index=False)\n",
        "\n",
        "    # Generate lift matrix\n",
        "    lift_matrix = pd.pivot_table(df_lift, values='lift_value', index='word1', columns='word2', fill_value=0)\n",
        "    lift_matrix.index.name = ''\n",
        "    lift_matrix.to_csv(output_lift_matrix)\n",
        "\n",
        "# Main function to run all steps\n",
        "def main():\n",
        "    # Step 1: Load word pairs\n",
        "    word_pairs = load_word_pairs(pair_keys_file)\n",
        "\n",
        "    # Step 2: Process the input file to extract posts\n",
        "    posts = process_input_file(input_file)\n",
        "\n",
        "    # Step 3: Calculate frequencies\n",
        "    calculate_frequencies(posts)\n",
        "\n",
        "    # Step 4: Calculate lift values\n",
        "    df_lift = calculate_lift(word_pairs)\n",
        "\n",
        "    # Step 5: Save results\n",
        "    save_results(df_lift)\n",
        "\n",
        "# Run the script\n",
        "if __name__ == \"__main__\":\n",
        "    main()"
      ]
    },
    {
      "cell_type": "code",
      "execution_count": null,
      "metadata": {
        "id": "BGq1DbpJUDvb"
      },
      "outputs": [],
      "source": [
        "df = pd.read_csv('data/Lift_Matrix.csv')\n",
        "df"
      ]
    },
    {
      "cell_type": "markdown",
      "metadata": {
        "id": "8voxAljyUDvc"
      },
      "source": [
        "Our customer has said that chocolate, dark, and vanilla are important attributes to them."
      ]
    },
    {
      "cell_type": "markdown",
      "metadata": {
        "id": "FfygsH-tUDvc"
      },
      "source": [
        "Do we want to create some alternative profiles too?\n",
        "Attribute preference ranking?"
      ]
    },
    {
      "cell_type": "markdown",
      "metadata": {
        "id": "-I6RNqfYUDvc"
      },
      "source": [
        "# Task C: Similarity Analysis"
      ]
    },
    {
      "cell_type": "markdown",
      "metadata": {
        "id": "VHrKGlYhUDvd"
      },
      "source": [
        "We chose to stem and lemmatize our corpus before performing cosine similarities in order to improve the predictive power of our model. These techniques will increase the co-occurrence of words and likely increase the number of reviews associated with our customer's chosen attributes."
      ]
    },
    {
      "cell_type": "code",
      "execution_count": null,
      "metadata": {
        "colab": {
          "base_uri": "https://localhost:8080/"
        },
        "id": "iuGam8cdUDvd",
        "outputId": "bc4e5ee6-c376-4922-f564-2553bd210483"
      },
      "outputs": [
        {
          "name": "stderr",
          "output_type": "stream",
          "text": [
            "[nltk_data] Downloading package wordnet to /root/nltk_data...\n"
          ]
        },
        {
          "name": "stdout",
          "output_type": "stream",
          "text": [
            "                          Beer  \\\n",
            "0  Kentucky Brunch Brand Stout   \n",
            "1  Kentucky Brunch Brand Stout   \n",
            "2  Kentucky Brunch Brand Stout   \n",
            "3  Kentucky Brunch Brand Stout   \n",
            "4  Kentucky Brunch Brand Stout   \n",
            "\n",
            "                                              Review  similarity_score  \n",
            "0  sampled brewery bottle version beer pours visc...          0.174078  \n",
            "1  perfect barrel aged stout overly sweet nice ba...          0.000000  \n",
            "2  flirtation maple come crescendo toppling golia...          0.238479  \n",
            "3  flirtation maple come crescendo toppling golia...          0.238479  \n",
            "4  tap tg part kbbs release day rating version pe...          0.000000  \n"
          ]
        }
      ],
      "source": [
        "import nltk\n",
        "nltk.download('wordnet')\n",
        "\n",
        "from scipy.sparse import csr_matrix\n",
        "\n",
        "# Initializing stemmer and Lemmatizer\n",
        "lemmatizer = WordNetLemmatizer()\n",
        "stop_words = set(stopwords.words('english'))\n",
        "\n",
        "# Preprocessing the text (incorporating stemming and lemmatization)\n",
        "def preprocess_text(text):\n",
        "    text = text.lower()\n",
        "    text = re.sub(r'[^a-z\\s]', '', text)\n",
        "    tokens = text.split()\n",
        "\n",
        "    # Removing the stop words and applying both stemming and lemmatization\n",
        "    tokens = [lemmatizer.lemmatize(word) for word in tokens if word not in stop_words]\n",
        "    return ' '.join(tokens)\n",
        "\n",
        "# We are lemmatizing words, but not stemming them; stemming will produce words that have no meaning on their own and will make our analysis more challenging\n",
        "\n",
        "# Loading in the scraped beer reviews\n",
        "beer_reviews = pd.read_csv('data/reduced_length.csv')\n",
        "\n",
        "# Applyin text preprocessing to all reviews\n",
        "beer_reviews['Review'] = beer_reviews['Review'].apply(preprocess_text)\n",
        "\n",
        "# The 3 determined important attributes from Part B\n",
        "attributes = [\"dark\", \"chocolate\", \"vanilla\"]\n",
        "\n",
        "# Preprocessing the attributes\n",
        "attributes_str = preprocess_text(' '.join(attributes))\n",
        "\n",
        "# Initializing the Bag-of-Words Model\n",
        "vectorizer = CountVectorizer()\n",
        "\n",
        "# Fit transforming both the reviews and the attributes\n",
        "review_vectors = vectorizer.fit_transform(beer_reviews['Review'])\n",
        "attributes_vector = vectorizer.transform([attributes_str])\n",
        "\n",
        "\n",
        "def normalize(vector):\n",
        "    norm = np.linalg.norm(vector)\n",
        "    if norm == 0:  # Prevent division by zero\n",
        "        return vector\n",
        "    return vector / norm\n",
        "\n",
        "normalized_data = []\n",
        "row_indices = []\n",
        "col_indices = []\n",
        "\n",
        "for i in range(review_vectors.shape[0]):\n",
        "    row = review_vectors[i].toarray().flatten()  # Convert sparse row to a dense array\n",
        "    normalized_row = normalize(row)  # Normalize the row\n",
        "\n",
        "    # Get the non-zero elements and their column indices after normalization\n",
        "    non_zero_cols = np.nonzero(normalized_row)[0]\n",
        "    non_zero_values = normalized_row[non_zero_cols]\n",
        "\n",
        "    # Store the normalized data for constructing a new sparse matrix\n",
        "    normalized_data.extend(non_zero_values)\n",
        "    row_indices.extend([i] * len(non_zero_values))\n",
        "    col_indices.extend(non_zero_cols)\n",
        "\n",
        "# Create a new sparse matrix using the normalized data\n",
        "review_vectors = csr_matrix((normalized_data, (row_indices, col_indices)),\n",
        "                                      shape=review_vectors.shape)\n",
        "\n",
        "normalized_data = []\n",
        "row_indices = []\n",
        "col_indices = []\n",
        "\n",
        "for i in range(attributes_vector.shape[0]):\n",
        "    row = attributes_vector[i].toarray().flatten()  # Convert sparse row to a dense array\n",
        "    normalized_row = normalize(row)  # Normalize the row\n",
        "\n",
        "    # Get the non-zero elements and their column indices after normalization\n",
        "    non_zero_cols = np.nonzero(normalized_row)[0]\n",
        "    non_zero_values = normalized_row[non_zero_cols]\n",
        "\n",
        "    # Store the normalized data for constructing a new sparse matrix\n",
        "    normalized_data.extend(non_zero_values)\n",
        "    row_indices.extend([i] * len(non_zero_values))\n",
        "    col_indices.extend(non_zero_cols)\n",
        "\n",
        "# Create a new sparse matrix using the normalized data\n",
        "attributes_vector = csr_matrix((normalized_data, (row_indices, col_indices)),\n",
        "                                      shape=attributes_vector.shape)\n",
        "\n",
        "\n",
        "# Calculating the cosine similarity between each review and the 3 important attributes\n",
        "sim_scores = cosine_similarity(review_vectors, attributes_vector).flatten()\n",
        "\n",
        "# Adding the similarity scores as a column to the DataFrame\n",
        "beer_reviews['similarity_score'] = sim_scores\n",
        "\n",
        "# Storing the results as a DataFrame\n",
        "sim_scores_df = beer_reviews[['Beer', 'Review', 'similarity_score']]\n",
        "\n",
        "# Saving the results to a CSV output file\n",
        "sim_scores_df.to_csv('data/similarity_scores.csv', index=False)\n",
        "\n",
        "# Printing out the first 5 results (for visualization)\n",
        "print(sim_scores_df.head())"
      ]
    },
    {
      "cell_type": "markdown",
      "metadata": {
        "id": "9fjLvgidUDve"
      },
      "source": [
        "# Task D: Sentiment Analysis"
      ]
    },
    {
      "cell_type": "code",
      "execution_count": null,
      "metadata": {
        "colab": {
          "base_uri": "https://localhost:8080/"
        },
        "id": "1yhdCAKBUDve",
        "outputId": "ae8a8f42-540a-468f-d0e2-9d1479a36c94"
      },
      "outputs": [
        {
          "name": "stderr",
          "output_type": "stream",
          "text": [
            "[nltk_data] Downloading package vader_lexicon to /root/nltk_data...\n"
          ]
        },
        {
          "name": "stdout",
          "output_type": "stream",
          "text": [
            "                          Beer  Rating  \\\n",
            "0  Kentucky Brunch Brand Stout    4.61   \n",
            "1  Kentucky Brunch Brand Stout    4.71   \n",
            "2  Kentucky Brunch Brand Stout    5.00   \n",
            "3  Kentucky Brunch Brand Stout    4.80   \n",
            "4  Kentucky Brunch Brand Stout    4.98   \n",
            "\n",
            "                                              Review    neg    neu    pos  \\\n",
            "0  Sampled at the brewery, this is the 2022 bottl...  0.028  0.795  0.177   \n",
            "1  The perfect barrel aged stout. Not overly swee...  0.205  0.553  0.242   \n",
            "2  The flirtation with maple comes to a crescendo...  0.024  0.793  0.183   \n",
            "3  The flirtation with maple comes to a crescendo...  0.024  0.793  0.183   \n",
            "4  On tap at TG for part of KBBS release day - ra...  0.077  0.610  0.313   \n",
            "\n",
            "   compound  \n",
            "0    0.9907  \n",
            "1    0.2216  \n",
            "2    0.9831  \n",
            "3    0.9831  \n",
            "4    0.9616  \n"
          ]
        }
      ],
      "source": [
        "# Load CSV file\n",
        "csvFile = pd.read_csv('data/reduced_length.csv')\n",
        "\n",
        "# Set up the analyzer\n",
        "nltk.download('vader_lexicon')\n",
        "analyzer = SentimentIntensityAnalyzer()\n",
        "\n",
        "# Create empty lists to store sentiment scores\n",
        "neg = []\n",
        "neu = []\n",
        "pos = []\n",
        "compound = []\n",
        "\n",
        "# Loop through the texts and get the sentiment scores for each one\n",
        "for text in csvFile[\"Review\"]:\n",
        "    scores = analyzer.polarity_scores(text)\n",
        "    neg.append(scores['neg'])\n",
        "    neu.append(scores['neu'])\n",
        "    pos.append(scores['pos'])\n",
        "    compound.append(scores['compound'])\n",
        "\n",
        "sentiments = csvFile\n",
        "\n",
        "# Add sentiment scores as new columns to the DataFrame\n",
        "sentiments['neg'] = neg\n",
        "sentiments['neu'] = neu\n",
        "sentiments['pos'] = pos\n",
        "sentiments['compound'] = compound\n",
        "\n",
        "# Display the updated DataFrame with sentiment scores\n",
        "print(sentiments.head())\n",
        "\n",
        "sentiment_avg = sentiments.groupby([\"Beer\"])[\"compound\"].mean().sort_values(ascending = False)"
      ]
    },
    {
      "cell_type": "markdown",
      "metadata": {
        "id": "I-e1VFjsUDve"
      },
      "source": [
        "# Task E: Beer Evaluation and Recommendation"
      ]
    },
    {
      "cell_type": "code",
      "execution_count": 34,
      "metadata": {
        "colab": {
          "base_uri": "https://localhost:8080/"
        },
        "id": "TtE7DyfRUDvf",
        "outputId": "4d4513be-9ae9-474d-b4cc-a9007e751ddc"
      },
      "outputs": [
        {
          "name": "stdout",
          "output_type": "stream",
          "text": [
            "Beer\n",
            "Fundamental Observation                    0.275805\n",
            "Speedway Stout - Bourbon Barrel-Aged       0.231605\n",
            "Imperial German Chocolate Cupcake Stout    0.189704\n",
            "Name: Score, dtype: float64\n"
          ]
        }
      ],
      "source": [
        "# The score is similarity * sentiment\n",
        "\n",
        "sentiment_avg = sentiments.groupby([\"Beer\"])[\"compound\"].mean().sort_values(ascending = False)\n",
        "\n",
        "sentiment_scores = sentiments[[\"Beer\", \"compound\"]]\n",
        "sim_scores = sim_scores_df[[\"Beer\", \"similarity_score\"]]\n",
        "\n",
        "scores = pd.DataFrame()\n",
        "scores[\"Beer\"] = sentiment_scores[\"Beer\"]\n",
        "scores[\"Score\"] = sentiment_scores[\"compound\"] * sim_scores[\"similarity_score\"]\n",
        "print(scores.groupby([\"Beer\"])[\"Score\"].mean().sort_values(ascending = False)[:3])\n",
        "\n",
        "top_3_bow = [\"Fundamental Observation\", \"Speedway Stout - Bourbon Barrel-Aged\", \"Imperial German Chocolate Cupcake Stout\"]"
      ]
    },
    {
      "cell_type": "markdown",
      "metadata": {
        "id": "Q6Su7yvYUDvf"
      },
      "source": [
        "The above are the three beers we would recommend to our customer who likes dark, chocolate and vanilla in their beers."
      ]
    },
    {
      "cell_type": "markdown",
      "metadata": {
        "id": "b1e2ggj7UDvf"
      },
      "source": [
        "# Task F: Beer Recommendation Using Word Vectors"
      ]
    },
    {
      "cell_type": "code",
      "execution_count": 18,
      "metadata": {
        "colab": {
          "base_uri": "https://localhost:8080/"
        },
        "id": "sZGIaIlbUDvg",
        "outputId": "8abcb076-c6c4-473b-c627-444643144f60"
      },
      "outputs": [
        {
          "name": "stdout",
          "output_type": "stream",
          "text": [
            "Collecting en-core-web-md==3.7.1\n",
            "  Downloading https://github.com/explosion/spacy-models/releases/download/en_core_web_md-3.7.1/en_core_web_md-3.7.1-py3-none-any.whl (42.8 MB)\n",
            "\u001b[2K     \u001b[90m━━━━━━━━━━━━━━━━━━━━━━━━━━━━━━━━━━━━━━━━\u001b[0m \u001b[32m42.8/42.8 MB\u001b[0m \u001b[31m14.3 MB/s\u001b[0m eta \u001b[36m0:00:00\u001b[0m\n",
            "\u001b[?25hRequirement already satisfied: spacy<3.8.0,>=3.7.2 in /usr/local/lib/python3.10/dist-packages (from en-core-web-md==3.7.1) (3.7.5)\n",
            "Requirement already satisfied: spacy-legacy<3.1.0,>=3.0.11 in /usr/local/lib/python3.10/dist-packages (from spacy<3.8.0,>=3.7.2->en-core-web-md==3.7.1) (3.0.12)\n",
            "Requirement already satisfied: spacy-loggers<2.0.0,>=1.0.0 in /usr/local/lib/python3.10/dist-packages (from spacy<3.8.0,>=3.7.2->en-core-web-md==3.7.1) (1.0.5)\n",
            "Requirement already satisfied: murmurhash<1.1.0,>=0.28.0 in /usr/local/lib/python3.10/dist-packages (from spacy<3.8.0,>=3.7.2->en-core-web-md==3.7.1) (1.0.10)\n",
            "Requirement already satisfied: cymem<2.1.0,>=2.0.2 in /usr/local/lib/python3.10/dist-packages (from spacy<3.8.0,>=3.7.2->en-core-web-md==3.7.1) (2.0.8)\n",
            "Requirement already satisfied: preshed<3.1.0,>=3.0.2 in /usr/local/lib/python3.10/dist-packages (from spacy<3.8.0,>=3.7.2->en-core-web-md==3.7.1) (3.0.9)\n",
            "Requirement already satisfied: thinc<8.3.0,>=8.2.2 in /usr/local/lib/python3.10/dist-packages (from spacy<3.8.0,>=3.7.2->en-core-web-md==3.7.1) (8.2.5)\n",
            "Requirement already satisfied: wasabi<1.2.0,>=0.9.1 in /usr/local/lib/python3.10/dist-packages (from spacy<3.8.0,>=3.7.2->en-core-web-md==3.7.1) (1.1.3)\n",
            "Requirement already satisfied: srsly<3.0.0,>=2.4.3 in /usr/local/lib/python3.10/dist-packages (from spacy<3.8.0,>=3.7.2->en-core-web-md==3.7.1) (2.4.8)\n",
            "Requirement already satisfied: catalogue<2.1.0,>=2.0.6 in /usr/local/lib/python3.10/dist-packages (from spacy<3.8.0,>=3.7.2->en-core-web-md==3.7.1) (2.0.10)\n",
            "Requirement already satisfied: weasel<0.5.0,>=0.1.0 in /usr/local/lib/python3.10/dist-packages (from spacy<3.8.0,>=3.7.2->en-core-web-md==3.7.1) (0.4.1)\n",
            "Requirement already satisfied: typer<1.0.0,>=0.3.0 in /usr/local/lib/python3.10/dist-packages (from spacy<3.8.0,>=3.7.2->en-core-web-md==3.7.1) (0.12.5)\n",
            "Requirement already satisfied: tqdm<5.0.0,>=4.38.0 in /usr/local/lib/python3.10/dist-packages (from spacy<3.8.0,>=3.7.2->en-core-web-md==3.7.1) (4.66.5)\n",
            "Requirement already satisfied: requests<3.0.0,>=2.13.0 in /usr/local/lib/python3.10/dist-packages (from spacy<3.8.0,>=3.7.2->en-core-web-md==3.7.1) (2.32.3)\n",
            "Requirement already satisfied: pydantic!=1.8,!=1.8.1,<3.0.0,>=1.7.4 in /usr/local/lib/python3.10/dist-packages (from spacy<3.8.0,>=3.7.2->en-core-web-md==3.7.1) (2.9.2)\n",
            "Requirement already satisfied: jinja2 in /usr/local/lib/python3.10/dist-packages (from spacy<3.8.0,>=3.7.2->en-core-web-md==3.7.1) (3.1.4)\n",
            "Requirement already satisfied: setuptools in /usr/local/lib/python3.10/dist-packages (from spacy<3.8.0,>=3.7.2->en-core-web-md==3.7.1) (71.0.4)\n",
            "Requirement already satisfied: packaging>=20.0 in /usr/local/lib/python3.10/dist-packages (from spacy<3.8.0,>=3.7.2->en-core-web-md==3.7.1) (24.1)\n",
            "Requirement already satisfied: langcodes<4.0.0,>=3.2.0 in /usr/local/lib/python3.10/dist-packages (from spacy<3.8.0,>=3.7.2->en-core-web-md==3.7.1) (3.4.1)\n",
            "Requirement already satisfied: numpy>=1.19.0 in /usr/local/lib/python3.10/dist-packages (from spacy<3.8.0,>=3.7.2->en-core-web-md==3.7.1) (1.26.4)\n",
            "Requirement already satisfied: language-data>=1.2 in /usr/local/lib/python3.10/dist-packages (from langcodes<4.0.0,>=3.2.0->spacy<3.8.0,>=3.7.2->en-core-web-md==3.7.1) (1.2.0)\n",
            "Requirement already satisfied: annotated-types>=0.6.0 in /usr/local/lib/python3.10/dist-packages (from pydantic!=1.8,!=1.8.1,<3.0.0,>=1.7.4->spacy<3.8.0,>=3.7.2->en-core-web-md==3.7.1) (0.7.0)\n",
            "Requirement already satisfied: pydantic-core==2.23.4 in /usr/local/lib/python3.10/dist-packages (from pydantic!=1.8,!=1.8.1,<3.0.0,>=1.7.4->spacy<3.8.0,>=3.7.2->en-core-web-md==3.7.1) (2.23.4)\n",
            "Requirement already satisfied: typing-extensions>=4.6.1 in /usr/local/lib/python3.10/dist-packages (from pydantic!=1.8,!=1.8.1,<3.0.0,>=1.7.4->spacy<3.8.0,>=3.7.2->en-core-web-md==3.7.1) (4.12.2)\n",
            "Requirement already satisfied: charset-normalizer<4,>=2 in /usr/local/lib/python3.10/dist-packages (from requests<3.0.0,>=2.13.0->spacy<3.8.0,>=3.7.2->en-core-web-md==3.7.1) (3.3.2)\n",
            "Requirement already satisfied: idna<4,>=2.5 in /usr/local/lib/python3.10/dist-packages (from requests<3.0.0,>=2.13.0->spacy<3.8.0,>=3.7.2->en-core-web-md==3.7.1) (3.10)\n",
            "Requirement already satisfied: urllib3<3,>=1.21.1 in /usr/local/lib/python3.10/dist-packages (from requests<3.0.0,>=2.13.0->spacy<3.8.0,>=3.7.2->en-core-web-md==3.7.1) (2.2.3)\n",
            "Requirement already satisfied: certifi>=2017.4.17 in /usr/local/lib/python3.10/dist-packages (from requests<3.0.0,>=2.13.0->spacy<3.8.0,>=3.7.2->en-core-web-md==3.7.1) (2024.8.30)\n",
            "Requirement already satisfied: blis<0.8.0,>=0.7.8 in /usr/local/lib/python3.10/dist-packages (from thinc<8.3.0,>=8.2.2->spacy<3.8.0,>=3.7.2->en-core-web-md==3.7.1) (0.7.11)\n",
            "Requirement already satisfied: confection<1.0.0,>=0.0.1 in /usr/local/lib/python3.10/dist-packages (from thinc<8.3.0,>=8.2.2->spacy<3.8.0,>=3.7.2->en-core-web-md==3.7.1) (0.1.5)\n",
            "Requirement already satisfied: click>=8.0.0 in /usr/local/lib/python3.10/dist-packages (from typer<1.0.0,>=0.3.0->spacy<3.8.0,>=3.7.2->en-core-web-md==3.7.1) (8.1.7)\n",
            "Requirement already satisfied: shellingham>=1.3.0 in /usr/local/lib/python3.10/dist-packages (from typer<1.0.0,>=0.3.0->spacy<3.8.0,>=3.7.2->en-core-web-md==3.7.1) (1.5.4)\n",
            "Requirement already satisfied: rich>=10.11.0 in /usr/local/lib/python3.10/dist-packages (from typer<1.0.0,>=0.3.0->spacy<3.8.0,>=3.7.2->en-core-web-md==3.7.1) (13.8.1)\n",
            "Requirement already satisfied: cloudpathlib<1.0.0,>=0.7.0 in /usr/local/lib/python3.10/dist-packages (from weasel<0.5.0,>=0.1.0->spacy<3.8.0,>=3.7.2->en-core-web-md==3.7.1) (0.19.0)\n",
            "Requirement already satisfied: smart-open<8.0.0,>=5.2.1 in /usr/local/lib/python3.10/dist-packages (from weasel<0.5.0,>=0.1.0->spacy<3.8.0,>=3.7.2->en-core-web-md==3.7.1) (7.0.4)\n",
            "Requirement already satisfied: MarkupSafe>=2.0 in /usr/local/lib/python3.10/dist-packages (from jinja2->spacy<3.8.0,>=3.7.2->en-core-web-md==3.7.1) (2.1.5)\n",
            "Requirement already satisfied: marisa-trie>=0.7.7 in /usr/local/lib/python3.10/dist-packages (from language-data>=1.2->langcodes<4.0.0,>=3.2.0->spacy<3.8.0,>=3.7.2->en-core-web-md==3.7.1) (1.2.0)\n",
            "Requirement already satisfied: markdown-it-py>=2.2.0 in /usr/local/lib/python3.10/dist-packages (from rich>=10.11.0->typer<1.0.0,>=0.3.0->spacy<3.8.0,>=3.7.2->en-core-web-md==3.7.1) (3.0.0)\n",
            "Requirement already satisfied: pygments<3.0.0,>=2.13.0 in /usr/local/lib/python3.10/dist-packages (from rich>=10.11.0->typer<1.0.0,>=0.3.0->spacy<3.8.0,>=3.7.2->en-core-web-md==3.7.1) (2.18.0)\n",
            "Requirement already satisfied: wrapt in /usr/local/lib/python3.10/dist-packages (from smart-open<8.0.0,>=5.2.1->weasel<0.5.0,>=0.1.0->spacy<3.8.0,>=3.7.2->en-core-web-md==3.7.1) (1.16.0)\n",
            "Requirement already satisfied: mdurl~=0.1 in /usr/local/lib/python3.10/dist-packages (from markdown-it-py>=2.2.0->rich>=10.11.0->typer<1.0.0,>=0.3.0->spacy<3.8.0,>=3.7.2->en-core-web-md==3.7.1) (0.1.2)\n",
            "\u001b[38;5;2m✔ Download and installation successful\u001b[0m\n",
            "You can now load the package via spacy.load('en_core_web_md')\n",
            "\u001b[38;5;3m⚠ Restart to reload dependencies\u001b[0m\n",
            "If you are in a Jupyter or Colab notebook, you may need to restart Python in\n",
            "order to load all the package's dependencies. You can do this by selecting the\n",
            "'Restart kernel' or 'Restart runtime' option.\n"
          ]
        },
        {
          "name": "stderr",
          "output_type": "stream",
          "text": [
            "<ipython-input-18-14db6975b870>:23: UserWarning: [W008] Evaluating Doc.similarity based on empty vectors.\n",
            "  spacy_similarities.append(review.similarity(attribute_doc))\n"
          ]
        }
      ],
      "source": [
        "import spacy\n",
        "import pandas as pandas\n",
        "\n",
        "!python -m spacy download en_core_web_md\n",
        "\n",
        "\n",
        "# Below: sample code\n",
        "\n",
        "nlp = spacy.load('en_core_web_md')\n",
        "text1 = 'What should be done to end violence in the world?'\n",
        "text2 = 'How can we have peace on earth?'\n",
        "doc1 = nlp(text1) # convert text to vector representation\n",
        "doc2 = nlp(text2) # convert text to vector representation\n",
        "\n",
        "attribute_doc = nlp(\"dark, chocolate, vanilla\")\n",
        "\n",
        "spacy_similarities = []\n",
        "\n",
        "df = pd.read_csv(\"data/reduced_length.csv\")\n",
        "\n",
        "for i in range(len(df)):\n",
        "    review = nlp(df.loc[i, \"Review\"])\n",
        "    spacy_similarities.append(review.similarity(attribute_doc))\n",
        "\n",
        "\n"
      ]
    },
    {
      "cell_type": "code",
      "execution_count": 27,
      "metadata": {
        "colab": {
          "base_uri": "https://localhost:8080/",
          "height": 207
        },
        "id": "rJ2t1HsZXf6a",
        "outputId": "1dc1aee9-fe26-4c97-cbfa-1ad33406b18f"
      },
      "outputs": [
        {
          "data": {
            "text/html": [
              "<div>\n",
              "<style scoped>\n",
              "    .dataframe tbody tr th:only-of-type {\n",
              "        vertical-align: middle;\n",
              "    }\n",
              "\n",
              "    .dataframe tbody tr th {\n",
              "        vertical-align: top;\n",
              "    }\n",
              "\n",
              "    .dataframe thead th {\n",
              "        text-align: right;\n",
              "    }\n",
              "</style>\n",
              "<table border=\"1\" class=\"dataframe\">\n",
              "  <thead>\n",
              "    <tr style=\"text-align: right;\">\n",
              "      <th></th>\n",
              "      <th>spacy_sim</th>\n",
              "    </tr>\n",
              "    <tr>\n",
              "      <th>Beer</th>\n",
              "      <th></th>\n",
              "    </tr>\n",
              "  </thead>\n",
              "  <tbody>\n",
              "    <tr>\n",
              "      <th>Superstition Berry White</th>\n",
              "      <td>0.801588</td>\n",
              "    </tr>\n",
              "    <tr>\n",
              "      <th>AleSmith Speedway Stout - Barrel-Aged Vietnamese Coffee</th>\n",
              "      <td>0.787165</td>\n",
              "    </tr>\n",
              "    <tr>\n",
              "      <th>Närke Kaggen Stormaktsporter</th>\n",
              "      <td>0.780146</td>\n",
              "    </tr>\n",
              "  </tbody>\n",
              "</table>\n",
              "</div><br><label><b>dtype:</b> float64</label>"
            ],
            "text/plain": [
              "Beer\n",
              "Superstition Berry White                                   0.801588\n",
              "AleSmith Speedway Stout - Barrel-Aged Vietnamese Coffee    0.787165\n",
              "Närke Kaggen Stormaktsporter                               0.780146\n",
              "Name: spacy_sim, dtype: float64"
            ]
          },
          "execution_count": 27,
          "metadata": {},
          "output_type": "execute_result"
        }
      ],
      "source": [
        "spacy_df = df\n",
        "spacy_df[\"spacy_sim\"] = spacy_similarities\n",
        "top_beers_spacy = spacy_df.groupby([\"Beer\"])[\"spacy_sim\"].mean().sort_values(ascending = False)[:3]\n",
        "top_beers_spacy\n"
      ]
    },
    {
      "cell_type": "code",
      "execution_count": 42,
      "metadata": {
        "colab": {
          "base_uri": "https://localhost:8080/"
        },
        "id": "MN1IT-YAcUXJ",
        "outputId": "10373391-099a-4629-a1f2-d72c92c89aa3"
      },
      "outputs": [
        {
          "name": "stdout",
          "output_type": "stream",
          "text": [
            "The total number of reviews for the spacy recommended beers is: 44\n",
            "There are : 19 spacy-recommended reviews that mention dark\n",
            "There are : 24 spacy-recommended reviews that mention chocolate\n",
            "There are : 16 spacy-recommended reviews that mention vanilla\n",
            "There are : 0 spacy-recommended reviews that mention chocolate and vanilla\n"
          ]
        },
        {
          "name": "stderr",
          "output_type": "stream",
          "text": [
            "<ipython-input-42-a05d7d438c02>:9: UserWarning: Boolean Series key will be reindexed to match DataFrame index.\n",
            "  print(\"There are : \" + str(len(spacy_beers_df[bow_3_beers[\"Review\"].str.lower().str.contains(attributes[1]) & spacy_beers_df[\"Review\"].str.lower().str.contains(attributes[2])])) + \" spacy-recommended reviews that mention \" + attributes[1] + \" and \" + attributes[2])\n"
          ]
        }
      ],
      "source": [
        "attributes = [\"dark\", \"chocolate\", \"vanilla\"]\n",
        "spacy_3_beers = [\"Superstition Berry White\", \"AleSmith Speedway Stout - Barrel-Aged Vietnamese Coffee\", \"Närke Kaggen Stormaktsporter\"]\n",
        "spacy_beers_df = df[df[\"Beer\"].isin(spacy_3_beers)]\n",
        "print(\"The total number of reviews for the spacy recommended beers is: \" + str(len(spacy_beers_df)))\n",
        "\n",
        "print(\"There are : \" + str(len(spacy_beers_df[spacy_beers_df[\"Review\"].str.lower().str.contains(attributes[0])])) + \" spacy-recommended reviews that mention \" + attributes[0])\n",
        "print(\"There are : \" + str(len(spacy_beers_df[spacy_beers_df[\"Review\"].str.lower().str.contains(attributes[1])])) + \" spacy-recommended reviews that mention \" + attributes[1])\n",
        "print(\"There are : \" + str(len(spacy_beers_df[spacy_beers_df[\"Review\"].str.lower().str.contains(attributes[2])])) + \" spacy-recommended reviews that mention \" + attributes[2])\n",
        "print(\"There are : \" + str(len(spacy_beers_df[bow_3_beers[\"Review\"].str.lower().str.contains(attributes[1]) & spacy_beers_df[\"Review\"].str.lower().str.contains(attributes[2])])) + \" spacy-recommended reviews that mention \" + attributes[1] + \" and \" + attributes[2])\n"
      ]
    },
    {
      "cell_type": "code",
      "execution_count": 43,
      "metadata": {
        "colab": {
          "base_uri": "https://localhost:8080/"
        },
        "id": "SpOw4iLneCJF",
        "outputId": "6ea6715d-d81a-4b01-dd08-ee62e3274752"
      },
      "outputs": [
        {
          "name": "stdout",
          "output_type": "stream",
          "text": [
            "The total number of reviews for the bag-of-words recommended beers is: 23\n",
            "There are : 13 bag-of-word-recommended reviews that mention dark\n",
            "There are : 19 bag-of-word-recommended reviews that mention chocolate\n",
            "There are : 19 bag-of-word-recommended reviews that mention vanilla\n",
            "There are : 17 bag-of-word-recommended reviews that mention chocolate and vanilla\n"
          ]
        }
      ],
      "source": [
        "bow_3_beers = df[df[\"Beer\"].isin(top_3_bow)]\n",
        "\n",
        "print(\"The total number of reviews for the bag-of-words recommended beers is: \" + str(len(bow_3_beers)))\n",
        "\n",
        "print(\"There are : \" + str(len(bow_3_beers[bow_3_beers[\"Review\"].str.lower().str.contains(attributes[0])])) + \" bag-of-word-recommended reviews that mention \" + attributes[0])\n",
        "print(\"There are : \" + str(len(bow_3_beers[bow_3_beers[\"Review\"].str.lower().str.contains(attributes[1])])) + \" bag-of-word-recommended reviews that mention \" + attributes[1])\n",
        "print(\"There are : \" + str(len(bow_3_beers[bow_3_beers[\"Review\"].str.lower().str.contains(attributes[2])])) + \" bag-of-word-recommended reviews that mention \" + attributes[2])\n",
        "print(\"There are : \" + str(len(bow_3_beers[bow_3_beers[\"Review\"].str.lower().str.contains(attributes[1]) & bow_3_beers[\"Review\"].str.lower().str.contains(attributes[2])])) + \" bag-of-word-recommended reviews that mention \" + attributes[1] + \" and \" + attributes[2])"
      ]
    },
    {
      "cell_type": "markdown",
      "metadata": {
        "id": "L8_8oYKqgNMc"
      },
      "source": [
        "Need to find a smarter way to find all of the reviews that contain specific attributes (particularly for those that contain 2 or more attributes)."
      ]
    },
    {
      "cell_type": "markdown",
      "metadata": {
        "id": "jnR0lYtaUDvg"
      },
      "source": [
        "# Task G: Highly Rated Beers\n",
        "Compare the attributes of highly rated beers to what the customer asked for."
      ]
    },
    {
      "cell_type": "markdown",
      "metadata": {
        "id": "7dnmWV8HUDvh"
      },
      "source": [
        "Do people talk about the attributes our customer cares about when writing about these top three beers?"
      ]
    },
    {
      "cell_type": "code",
      "execution_count": 23,
      "metadata": {
        "colab": {
          "base_uri": "https://localhost:8080/",
          "height": 207
        },
        "id": "rLL9hrTHUDvh",
        "outputId": "c384f2e5-2c2c-4959-bd18-23083fadaf5b"
      },
      "outputs": [
        {
          "data": {
            "text/html": [
              "<div>\n",
              "<style scoped>\n",
              "    .dataframe tbody tr th:only-of-type {\n",
              "        vertical-align: middle;\n",
              "    }\n",
              "\n",
              "    .dataframe tbody tr th {\n",
              "        vertical-align: top;\n",
              "    }\n",
              "\n",
              "    .dataframe thead th {\n",
              "        text-align: right;\n",
              "    }\n",
              "</style>\n",
              "<table border=\"1\" class=\"dataframe\">\n",
              "  <thead>\n",
              "    <tr style=\"text-align: right;\">\n",
              "      <th></th>\n",
              "      <th>Rating</th>\n",
              "    </tr>\n",
              "    <tr>\n",
              "      <th>Beer</th>\n",
              "      <th></th>\n",
              "    </tr>\n",
              "  </thead>\n",
              "  <tbody>\n",
              "    <tr>\n",
              "      <th>M.J.K.</th>\n",
              "      <td>4.843333</td>\n",
              "    </tr>\n",
              "    <tr>\n",
              "      <th>Kentucky Brunch Brand Stout</th>\n",
              "      <td>4.828571</td>\n",
              "    </tr>\n",
              "    <tr>\n",
              "      <th>A Deal With The Devil - Triple Oak-Aged</th>\n",
              "      <td>4.798000</td>\n",
              "    </tr>\n",
              "  </tbody>\n",
              "</table>\n",
              "</div><br><label><b>dtype:</b> float64</label>"
            ],
            "text/plain": [
              "Beer\n",
              "M.J.K.                                     4.843333\n",
              "Kentucky Brunch Brand Stout                4.828571\n",
              "A Deal With The Devil - Triple Oak-Aged    4.798000\n",
              "Name: Rating, dtype: float64"
            ]
          },
          "execution_count": 23,
          "metadata": {},
          "output_type": "execute_result"
        }
      ],
      "source": [
        "df = pd.read_csv(\"data/reduced_length.csv\")\n",
        "average_ratings = df.groupby([\"Beer\"])[\"Rating\"].mean().sort_values(ascending = False)\n",
        "average_ratings.head(3)\n"
      ]
    },
    {
      "cell_type": "markdown",
      "metadata": {
        "id": "4Je_pvH2UDvh"
      },
      "source": [
        "ANSWER THIS QUESTION: how often are our attributes of interest mentioned?\n",
        "\n",
        "BONUS: what attributes are actually mentioned in these highly rated beers? I.e. if you like these things you can just get the highly rated beers"
      ]
    },
    {
      "cell_type": "code",
      "execution_count": 24,
      "metadata": {
        "colab": {
          "base_uri": "https://localhost:8080/"
        },
        "id": "ZKG5rvz-UDvi",
        "outputId": "cefccf56-2321-4af2-fea9-76e9e6e738f8"
      },
      "outputs": [
        {
          "name": "stdout",
          "output_type": "stream",
          "text": [
            "Word frequencies written to data/top_beer_word_freq.csv\n"
          ]
        }
      ],
      "source": [
        "top_three_beers = [\"M.J.K.\", \"Kentucky Brunch Brand Stout\", \"A Deal With The Devil - Triple Oak-Aged\"]\n",
        "top_beer_reviews = df[df[\"Beer\"].isin(top_three_beers)]\n",
        "\n",
        "top_beer_reviews.to_csv(\"data/top_beer_reviews.csv\", index = False)\n",
        "\n",
        "input_filename = \"data/top_beer_reviews.csv\"\n",
        "word_freq_output = \"data/top_beer_word_freq.csv\"\n",
        "\n",
        "# Main function to run all steps\n",
        "def main():\n",
        "\n",
        "    # Step 1: Extract and clean sentences\n",
        "    sentences = extract_sentences(input_filename)\n",
        "\n",
        "    # Step 2: Calculate word frequencies\n",
        "    word_freq = calculate_word_frequencies(sentences)\n",
        "\n",
        "    # Step 3: Write word frequencies to CSV\n",
        "    write_word_frequencies(word_freq, word_freq_output)\n",
        "\n",
        "if __name__ == \"__main__\":\n",
        "    main()\n",
        "\n",
        "# note: these are the raw word frequencies. Does it make sense to do this instead of post count since we have many fewer reviews\n",
        "# mentioned bourbon, dark and sweet (with chocolate and maple coming close after)"
      ]
    },
    {
      "cell_type": "markdown",
      "metadata": {
        "id": "xy8rMyQrgpWd"
      },
      "source": [
        "Do we create a new \"popularity\" score that weights ratings by number of ratings?"
      ]
    },
    {
      "cell_type": "markdown",
      "metadata": {
        "id": "ShWsDl7ZUDvj"
      },
      "source": [
        "# Task H: Similar Beers"
      ]
    },
    {
      "cell_type": "markdown",
      "metadata": {
        "id": "vpcxBHrIUDvj"
      },
      "source": [
        "choose a set of 5 beers\n",
        "\n",
        "pick one and find which of the other 4 is most similar\n",
        "\n",
        "Note: Make it 5 attributes, 5 beers instead of 10 for each\n",
        "- he didn't mention anything about # of attributes in the project overview. Does he want us to manually find the top attributes for each beer?\n",
        "\n",
        "Methodology: pick 5 beers, use spacy to compare all of the reviews to the reviews of the other reviews. Do we combine all of the reviews into one corpus (one long review)?"
      ]
    },
    {
      "cell_type": "code",
      "execution_count": null,
      "metadata": {
        "id": "bALJAHP_UDvk"
      },
      "outputs": [],
      "source": []
    }
  ],
  "metadata": {
    "colab": {
      "provenance": []
    },
    "kernelspec": {
      "display_name": "Python 3 (ipykernel)",
      "language": "python",
      "name": "python3"
    },
    "language_info": {
      "codemirror_mode": {
        "name": "ipython",
        "version": 3
      },
      "file_extension": ".py",
      "mimetype": "text/x-python",
      "name": "python",
      "nbconvert_exporter": "python",
      "pygments_lexer": "ipython3",
      "version": "3.9.19"
    },
    "vscode": {
      "interpreter": {
        "hash": "f3c82d000bb8a1750346fb87c49af9771012dc5d265e5e793ee442432926adf7"
      }
    }
  },
  "nbformat": 4,
  "nbformat_minor": 0
}
